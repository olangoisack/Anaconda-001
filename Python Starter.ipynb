{
 "cells": [
  {
   "cell_type": "markdown",
   "id": "5179cbcb",
   "metadata": {},
   "source": [
    "<h1 style=\"font-size:3rem;color:orange;\"Jupyter Notebook"
   ]
  },
  {
   "cell_type": "markdown",
   "id": "55fa6a55",
   "metadata": {},
   "source": [
    "<h1 style=\"font-size:3rem;color:orange;\">Jupyter Notebook Tutorial</h1>"
   ]
  },
  {
   "cell_type": "markdown",
   "id": "cfd61dfd",
   "metadata": {},
   "source": [
    "# Python for Beginners"
   ]
  },
  {
   "cell_type": "markdown",
   "id": "94d121ba",
   "metadata": {},
   "source": [
    "<img scr=\"https://picsum.photos/id/0/400/400\">"
   ]
  },
  {
   "cell_type": "markdown",
   "id": "129a2fa3",
   "metadata": {},
   "source": [
    "<img scr=\"https://picsum.photos/id/0/400/400\">"
   ]
  },
  {
   "cell_type": "markdown",
   "id": "6b4b99b2",
   "metadata": {},
   "source": [
    "## Basic Output"
   ]
  },
  {
   "cell_type": "code",
   "execution_count": 2,
   "id": "4afbbad1",
   "metadata": {},
   "outputs": [
    {
     "name": "stdout",
     "output_type": "stream",
     "text": [
      "Hello World!\n"
     ]
    }
   ],
   "source": [
    "print('Hello World!')"
   ]
  },
  {
   "cell_type": "markdown",
   "id": "44b27996",
   "metadata": {},
   "source": [
    "## Insert Variable into a string"
   ]
  },
  {
   "cell_type": "code",
   "execution_count": 6,
   "id": "8d409366",
   "metadata": {},
   "outputs": [
    {
     "name": "stdout",
     "output_type": "stream",
     "text": [
      "What's your name?Isack\n",
      "Hello, Isack!\n"
     ]
    }
   ],
   "source": [
    "person = input(\"What's your name?\")\n",
    "message = \"Hello, {}!\".format(person)\n",
    "print(message)"
   ]
  },
  {
   "cell_type": "markdown",
   "id": "62bae271",
   "metadata": {},
   "source": [
    "## Multiline Strings and String Length"
   ]
  },
  {
   "cell_type": "code",
   "execution_count": 8,
   "id": "0fac8a66",
   "metadata": {},
   "outputs": [
    {
     "name": "stdout",
     "output_type": "stream",
     "text": [
      "Once upon a time \n",
      "there lived a bear family\n",
      "who ate delicious pizza\n",
      "67\n"
     ]
    }
   ],
   "source": [
    "story = \"\"\"Once upon a time \n",
    "there lived a bear family\n",
    "who ate delicious pizza\"\"\"\n",
    "print(story)\n",
    "print(len(story))"
   ]
  },
  {
   "cell_type": "markdown",
   "id": "ef8a91e3",
   "metadata": {},
   "source": [
    "## Math Operations"
   ]
  },
  {
   "cell_type": "code",
   "execution_count": 9,
   "id": "73742c9d",
   "metadata": {},
   "outputs": [
    {
     "name": "stdout",
     "output_type": "stream",
     "text": [
      "5.25\n",
      "1\n"
     ]
    }
   ],
   "source": [
    "x = 7\n",
    "y = 4\n",
    "z=(x * 3) / y\n",
    "m = (x * 3) % y #modulo returns the remainder\n",
    "print(z)\n",
    "print(m)\n"
   ]
  },
  {
   "cell_type": "markdown",
   "id": "4f2b35ee",
   "metadata": {},
   "source": [
    "## Lists (arrays)\n"
   ]
  },
  {
   "cell_type": "code",
   "execution_count": 11,
   "id": "67cdd500",
   "metadata": {},
   "outputs": [
    {
     "name": "stdout",
     "output_type": "stream",
     "text": [
      "Monica\n"
     ]
    }
   ],
   "source": [
    "friends = ['Monica', 'Phoebe', 'Rachel','Chandler','Joey','Ross']\n",
    "print(friends[0])"
   ]
  },
  {
   "cell_type": "code",
   "execution_count": null,
   "id": "7158ac0f",
   "metadata": {},
   "outputs": [],
   "source": []
  }
 ],
 "metadata": {
  "kernelspec": {
   "display_name": "Python 3 (ipykernel)",
   "language": "python",
   "name": "python3"
  },
  "language_info": {
   "codemirror_mode": {
    "name": "ipython",
    "version": 3
   },
   "file_extension": ".py",
   "mimetype": "text/x-python",
   "name": "python",
   "nbconvert_exporter": "python",
   "pygments_lexer": "ipython3",
   "version": "3.11.4"
  }
 },
 "nbformat": 4,
 "nbformat_minor": 5
}
