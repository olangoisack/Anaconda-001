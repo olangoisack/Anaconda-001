{
 "cells": [
  {
   "cell_type": "markdown",
   "id": "b80d9dfe",
   "metadata": {},
   "source": [
    "# mean value implementation"
   ]
  },
  {
   "cell_type": "code",
   "execution_count": 1,
   "id": "2965b7af",
   "metadata": {},
   "outputs": [],
   "source": [
    "#Data prep...."
   ]
  },
  {
   "cell_type": "code",
   "execution_count": 3,
   "id": "544ac9db",
   "metadata": {},
   "outputs": [],
   "source": [
    "import numpy as np\n"
   ]
  },
  {
   "cell_type": "code",
   "execution_count": 4,
   "id": "8697c2a2",
   "metadata": {},
   "outputs": [
    {
     "data": {
      "text/plain": [
       "4.5"
      ]
     },
     "execution_count": 4,
     "metadata": {},
     "output_type": "execute_result"
    }
   ],
   "source": [
    "ll=[[1,2,3,4,5,6],[3,4,5,6,7,8]]\n",
    "np.mean(ll)"
   ]
  },
  {
   "cell_type": "code",
   "execution_count": 5,
   "id": "f03284f3",
   "metadata": {},
   "outputs": [
    {
     "data": {
      "text/plain": [
       "array([2., 3., 4., 5., 6., 7.])"
      ]
     },
     "execution_count": 5,
     "metadata": {},
     "output_type": "execute_result"
    }
   ],
   "source": [
    "np.mean(ll,0)"
   ]
  },
  {
   "cell_type": "code",
   "execution_count": 7,
   "id": "fe18e3ee",
   "metadata": {},
   "outputs": [
    {
     "data": {
      "text/plain": [
       "array([3.5, 5.5])"
      ]
     },
     "execution_count": 7,
     "metadata": {},
     "output_type": "execute_result"
    }
   ],
   "source": [
    "np.mean(ll,1)"
   ]
  },
  {
   "cell_type": "code",
   "execution_count": null,
   "id": "9c3db40c",
   "metadata": {},
   "outputs": [],
   "source": []
  }
 ],
 "metadata": {
  "kernelspec": {
   "display_name": "Python 3 (ipykernel)",
   "language": "python",
   "name": "python3"
  },
  "language_info": {
   "codemirror_mode": {
    "name": "ipython",
    "version": 3
   },
   "file_extension": ".py",
   "mimetype": "text/x-python",
   "name": "python",
   "nbconvert_exporter": "python",
   "pygments_lexer": "ipython3",
   "version": "3.11.4"
  }
 },
 "nbformat": 4,
 "nbformat_minor": 5
}
