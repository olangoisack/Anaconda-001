{
 "cells": [
  {
   "cell_type": "markdown",
   "id": "3958d396",
   "metadata": {},
   "source": [
    "# Variance Implementation"
   ]
  },
  {
   "cell_type": "code",
   "execution_count": 5,
   "id": "e2933dcb",
   "metadata": {},
   "outputs": [],
   "source": [
    "#Data preparation"
   ]
  },
  {
   "cell_type": "code",
   "execution_count": 6,
   "id": "c50d22ca",
   "metadata": {},
   "outputs": [],
   "source": [
    "import numpy as np\n"
   ]
  },
  {
   "cell_type": "code",
   "execution_count": 7,
   "id": "c1c5282a",
   "metadata": {},
   "outputs": [],
   "source": [
    "b=[1,3,5,6]\n",
    "ll=[[1,2,3,4,5,6],[3,4,5,6,7,8]]"
   ]
  },
  {
   "cell_type": "code",
   "execution_count": 8,
   "id": "1f0acc20",
   "metadata": {},
   "outputs": [],
   "source": [
    "#Calculate the variance "
   ]
  },
  {
   "cell_type": "code",
   "execution_count": 9,
   "id": "812e9b98",
   "metadata": {},
   "outputs": [
    {
     "data": {
      "text/plain": [
       "3.6875"
      ]
     },
     "execution_count": 9,
     "metadata": {},
     "output_type": "execute_result"
    }
   ],
   "source": [
    "np.var(b)"
   ]
  },
  {
   "cell_type": "code",
   "execution_count": 10,
   "id": "39e9111e",
   "metadata": {},
   "outputs": [
    {
     "data": {
      "text/plain": [
       "array([2.91666667, 2.91666667])"
      ]
     },
     "execution_count": 10,
     "metadata": {},
     "output_type": "execute_result"
    }
   ],
   "source": [
    "np.var(ll,1)"
   ]
  },
  {
   "cell_type": "code",
   "execution_count": null,
   "id": "395be898",
   "metadata": {},
   "outputs": [],
   "source": []
  }
 ],
 "metadata": {
  "kernelspec": {
   "display_name": "Python 3 (ipykernel)",
   "language": "python",
   "name": "python3"
  },
  "language_info": {
   "codemirror_mode": {
    "name": "ipython",
    "version": 3
   },
   "file_extension": ".py",
   "mimetype": "text/x-python",
   "name": "python",
   "nbconvert_exporter": "python",
   "pygments_lexer": "ipython3",
   "version": "3.11.4"
  }
 },
 "nbformat": 4,
 "nbformat_minor": 5
}
