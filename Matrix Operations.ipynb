{
 "cells": [
  {
   "cell_type": "code",
   "execution_count": 1,
   "id": "ef789661",
   "metadata": {},
   "outputs": [],
   "source": [
    "import numpy as np"
   ]
  },
  {
   "cell_type": "code",
   "execution_count": 2,
   "id": "1f971f4a",
   "metadata": {},
   "outputs": [],
   "source": [
    "#Create matrix A:"
   ]
  },
  {
   "cell_type": "code",
   "execution_count": 3,
   "id": "8bbcd489",
   "metadata": {},
   "outputs": [],
   "source": [
    "A = np.arange(6).reshape(3,2)"
   ]
  },
  {
   "cell_type": "code",
   "execution_count": 4,
   "id": "795a69db",
   "metadata": {},
   "outputs": [],
   "source": [
    "#Matrix multiplication"
   ]
  },
  {
   "cell_type": "code",
   "execution_count": 5,
   "id": "4a3c10a1",
   "metadata": {},
   "outputs": [
    {
     "name": "stdout",
     "output_type": "stream",
     "text": [
      "[[ 0  1]\n",
      " [ 4  9]\n",
      " [16 25]]\n"
     ]
    }
   ],
   "source": [
    "print(A*A)"
   ]
  },
  {
   "cell_type": "code",
   "execution_count": 6,
   "id": "53898db2",
   "metadata": {},
   "outputs": [],
   "source": [
    "#Matrix Addition"
   ]
  },
  {
   "cell_type": "code",
   "execution_count": 7,
   "id": "6949a5ba",
   "metadata": {},
   "outputs": [
    {
     "name": "stdout",
     "output_type": "stream",
     "text": [
      "[[ 0  2]\n",
      " [ 4  6]\n",
      " [ 8 10]]\n"
     ]
    }
   ],
   "source": [
    "print(A+A)"
   ]
  },
  {
   "cell_type": "code",
   "execution_count": null,
   "id": "93b8ddb5",
   "metadata": {},
   "outputs": [],
   "source": []
  }
 ],
 "metadata": {
  "kernelspec": {
   "display_name": "Python 3 (ipykernel)",
   "language": "python",
   "name": "python3"
  },
  "language_info": {
   "codemirror_mode": {
    "name": "ipython",
    "version": 3
   },
   "file_extension": ".py",
   "mimetype": "text/x-python",
   "name": "python",
   "nbconvert_exporter": "python",
   "pygments_lexer": "ipython3",
   "version": "3.11.4"
  }
 },
 "nbformat": 4,
 "nbformat_minor": 5
}
