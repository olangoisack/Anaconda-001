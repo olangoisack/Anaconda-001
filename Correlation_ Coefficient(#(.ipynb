{
 "cells": [
  {
   "cell_type": "markdown",
   "id": "2a1746f6",
   "metadata": {},
   "source": [
    "# Correlation Coefficient"
   ]
  },
  {
   "cell_type": "code",
   "execution_count": 3,
   "id": "93348755",
   "metadata": {},
   "outputs": [],
   "source": [
    "#Data preparation "
   ]
  },
  {
   "cell_type": "code",
   "execution_count": 6,
   "id": "735c120e",
   "metadata": {},
   "outputs": [],
   "source": [
    "import numpy as np"
   ]
  },
  {
   "cell_type": "code",
   "execution_count": 7,
   "id": "21bb0885",
   "metadata": {},
   "outputs": [],
   "source": [
    "vc=[1,2,39,0,8]\n",
    "vb=[1,2,38,0,8]"
   ]
  },
  {
   "cell_type": "code",
   "execution_count": 8,
   "id": "5d924bef",
   "metadata": {},
   "outputs": [
    {
     "data": {
      "text/plain": [
       "array([[1.        , 0.99998623],\n",
       "       [0.99998623, 1.        ]])"
      ]
     },
     "execution_count": 8,
     "metadata": {},
     "output_type": "execute_result"
    }
   ],
   "source": [
    "#Function-based implementation\n",
    "np.corrcoef(vc,vb)"
   ]
  },
  {
   "cell_type": "code",
   "execution_count": null,
   "id": "ef75f7a1",
   "metadata": {},
   "outputs": [],
   "source": []
  }
 ],
 "metadata": {
  "kernelspec": {
   "display_name": "Python 3 (ipykernel)",
   "language": "python",
   "name": "python3"
  },
  "language_info": {
   "codemirror_mode": {
    "name": "ipython",
    "version": 3
   },
   "file_extension": ".py",
   "mimetype": "text/x-python",
   "name": "python",
   "nbconvert_exporter": "python",
   "pygments_lexer": "ipython3",
   "version": "3.11.4"
  }
 },
 "nbformat": 4,
 "nbformat_minor": 5
}
